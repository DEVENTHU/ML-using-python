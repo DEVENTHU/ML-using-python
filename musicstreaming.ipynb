{
 "cells": [
  {
   "cell_type": "code",
   "execution_count": 39,
   "id": "93816a76-28ea-4478-9d44-371ea42819d4",
   "metadata": {},
   "outputs": [
    {
     "data": {
      "text/plain": [
       "0.75"
      ]
     },
     "execution_count": 39,
     "metadata": {},
     "output_type": "execute_result"
    }
   ],
   "source": [
    "import pandas as pd\n",
    "# sklearn is a package\n",
    "from sklearn.tree import DecisionTreeClassifier\n",
    "# fn helps to split it into 2 dataset training and testing\n",
    "from sklearn.model_selection import train_test_split\n",
    "from sklearn.metrics import accuracy_score\n",
    "from sklearn import tree\n",
    "# importing the csv file\n",
    "music = pd.read_csv('music.csv')\n",
    "# we take as 2 datasets ;input[age,gender]and output dataset[genre]\n",
    "# based on input dataset we have to predict the output\n",
    "# deleting the column genre \n",
    "X = music.drop(columns=['genre'])\n",
    "# return a new dataset ie the output dataset\n",
    "y = music['genre']\n",
    "# X and y for training and for testing we take 20 percent of data for testing\n",
    "# first 2 are input set for tarining and testing and last 2 are output sets\n",
    "X_train, X_test, y_train, y_test = train_test_split(X,y,test_size=0.2)\n",
    "model = DecisionTreeClassifier()\n",
    "# inserting our tarining dataset\n",
    "model.fit(X_train, y_train )\n",
    "tree.export_graphviz(model, out_file= 'music-reccomender.dot',\n",
    "                     feature_names=['age','gender'],\n",
    "                     class_names=sorted(y.unique()),\n",
    "                     label='all',\n",
    "                     rounded=True,\n",
    "                     filled=True\n",
    "                    )\n",
    "                     \n",
    "# predicting using x-test \n",
    "pred = model.predict(X_test)\n",
    "score = accuracy_score(y_test, pred)\n",
    "score"
   ]
  },
  {
   "cell_type": "code",
   "execution_count": null,
   "id": "609e8052-d62d-4301-9a40-a2b888b4783b",
   "metadata": {},
   "outputs": [],
   "source": []
  }
 ],
 "metadata": {
  "kernelspec": {
   "display_name": "Python 3 (ipykernel)",
   "language": "python",
   "name": "python3"
  },
  "language_info": {
   "codemirror_mode": {
    "name": "ipython",
    "version": 3
   },
   "file_extension": ".py",
   "mimetype": "text/x-python",
   "name": "python",
   "nbconvert_exporter": "python",
   "pygments_lexer": "ipython3",
   "version": "3.12.4"
  }
 },
 "nbformat": 4,
 "nbformat_minor": 5
}
